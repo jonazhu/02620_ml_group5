{
 "cells": [
  {
   "cell_type": "code",
   "execution_count": 8,
   "id": "217c797d",
   "metadata": {},
   "outputs": [
    {
     "name": "stdout",
     "output_type": "stream",
     "text": [
      "Index(['MATS3v', 'nHBint10', 'MATS3s', 'MATS3p', 'nHBDon_Lipinski',\n",
      "       'minHBint8', 'MATS3e', 'MATS3c', 'minHBint2', 'MATS3m',\n",
      "       ...\n",
      "       'WTPT-4', 'WTPT-5', 'ETA_EtaP_L', 'ETA_EtaP_F', 'ETA_EtaP_B', 'nT5Ring',\n",
      "       'SHdNH', 'ETA_dEpsilon_C', 'MDEO-22', 'Class'],\n",
      "      dtype='object', length=1204)\n",
      "Dimensions of toxicity data:\n",
      "Number of rows: 171\n",
      "Number of columns: 1204\n"
     ]
    }
   ],
   "source": [
    "from sklearn.feature_selection import RFE\n",
    "from sklearn.linear_model import LogisticRegression\n",
    "from sklearn.preprocessing import StandardScaler\n",
    "from sklearn.model_selection import train_test_split\n",
    "import pandas as pd\n",
    "import numpy as np\n",
    "import matplotlib.pyplot as plt\n",
    "\n",
    "#Read in full toxicity dataset\n",
    "#data = pd.read_csv('toxicity_data_13.csv')\n",
    "data = pd.read_csv('data.csv')\n",
    "print(data.columns)\n",
    "features = data.columns\n",
    "\n",
    "# Convert 'Class' column to numerical values\n",
    "data['Class'] = data['Class'].map({'NonToxic': 0, 'Toxic': 1})\n",
    "\n",
    "#Output dimensions of the data\n",
    "print(\"Dimensions of toxicity data:\")\n",
    "print(\"Number of rows:\", data.shape[0])\n",
    "print(\"Number of columns:\", data.shape[1])\n"
   ]
  },
  {
   "cell_type": "code",
   "execution_count": 23,
   "id": "e206d82b",
   "metadata": {},
   "outputs": [
    {
     "name": "stdout",
     "output_type": "stream",
     "text": [
      "     MATS3v  nHBint10  MATS3s  MATS3p  nHBDon_Lipinski  minHBint8  MATS3e  \\\n",
      "0    0.0908         0  0.0075  0.0173                0     0.0000 -0.0436   \n",
      "1    0.0213         0  0.1144 -0.0410                0     0.0000  0.1231   \n",
      "2    0.0018         0 -0.0156 -0.0765                2     0.0000 -0.1138   \n",
      "3   -0.0251         0 -0.0064 -0.0894                3     0.0000 -0.0747   \n",
      "4    0.0135         0  0.0424 -0.0353                0     0.0000 -0.0638   \n",
      "..      ...       ...     ...     ...              ...        ...     ...   \n",
      "166 -0.0960         0 -0.0478 -0.0840                2     0.0000 -0.0739   \n",
      "167 -0.0064         1 -0.1222  0.0013                1     0.0000 -0.1873   \n",
      "168  0.0096         2 -0.1846  0.0058                1     0.0000 -0.1293   \n",
      "169 -0.0736         2 -0.1267 -0.0345                2     0.5346 -0.0361   \n",
      "170 -0.1864         0 -0.0020 -0.1968                1     8.1414 -0.0529   \n",
      "\n",
      "     MATS3c  minHBint2  MATS3m  ...   WTPT-4   WTPT-5  ETA_EtaP_L  ETA_EtaP_F  \\\n",
      "0    0.0409     0.0000  0.1368  ...   0.0000   0.0000      0.1780      1.5488   \n",
      "1   -0.0316     0.0000  0.1318  ...   8.8660  19.3525      0.1739      1.3718   \n",
      "2   -0.1791     0.0000  0.0615  ...   5.2267  27.8796      0.1688      1.4395   \n",
      "3   -0.1151     0.0000  0.0361  ...   7.7896  24.7336      0.1702      1.4654   \n",
      "4    0.0307     0.0000  0.0306  ...  12.3240  19.7486      0.1789      1.4495   \n",
      "..      ...        ...     ...  ...      ...      ...         ...         ...   \n",
      "166 -0.2315     1.5660 -0.1133  ...   2.5690  12.0174      0.1648      0.9710   \n",
      "167 -0.2181     5.5404 -0.0757  ...  10.7860   6.4871      0.1805      1.2298   \n",
      "168 -0.0979     5.3976  0.0409  ...   4.9930  19.2864      0.2089      1.1245   \n",
      "169  0.0151     5.5190 -0.1025  ...  10.7504  19.4989      0.1944      1.2256   \n",
      "170 -0.0059     0.0000 -0.0930  ...   2.5356   3.0598      0.1945      0.9254   \n",
      "\n",
      "     ETA_EtaP_B  nT5Ring  SHdNH  ETA_dEpsilon_C  MDEO-22  Class  \n",
      "0        0.0088        0    0.0         -0.0868     0.00      0  \n",
      "1        0.0048        2    0.0         -0.0810     0.25      0  \n",
      "2        0.0116        2    0.0         -0.1004     0.00      0  \n",
      "3        0.0133        2    0.0         -0.1010     0.00      0  \n",
      "4        0.0120        2    0.0         -0.1071     0.00      0  \n",
      "..          ...      ...    ...             ...      ...    ...  \n",
      "166      0.0049        1    0.0         -0.0952     0.00      0  \n",
      "167      0.0127        1    0.0         -0.0860     0.00      0  \n",
      "168      0.0093        1    0.0         -0.0927     0.00      0  \n",
      "169      0.0167        1    0.0         -0.1129     0.00      1  \n",
      "170      0.0336        0    0.0         -0.1915     0.00      1  \n",
      "\n",
      "[171 rows x 1204 columns]\n"
     ]
    }
   ],
   "source": [
    "print(data)"
   ]
  },
  {
   "cell_type": "code",
   "execution_count": 9,
   "id": "5b695646",
   "metadata": {},
   "outputs": [
    {
     "name": "stdout",
     "output_type": "stream",
     "text": [
      "[False False False ... False False False]\n"
     ]
    }
   ],
   "source": [
    "# Load the dataset\n",
    "X = data.drop(columns=['Class'])\n",
    "y = data['Class']\n",
    "\n",
    "# Scale the features\n",
    "scaler = StandardScaler()\n",
    "X_scaled = scaler.fit_transform(X)\n",
    "\n",
    "# Create a logistic regression model\n",
    "model = LogisticRegression(max_iter=1000)\n",
    "\n",
    "# Use RFE to select the top 13 features\n",
    "rfe = RFE(model, n_features_to_select=13)\n",
    "rfe.fit(X_scaled, y)\n",
    "\n",
    "# Print the selected features\n",
    "print(rfe.support_)"
   ]
  },
  {
   "cell_type": "code",
   "execution_count": 3,
   "id": "1bbc1541",
   "metadata": {},
   "outputs": [
    {
     "name": "stdout",
     "output_type": "stream",
     "text": [
      "Number of True values: 13\n",
      "Indices of True values: [ 160  334  355  451  468  646  776  864  893  897  946 1025 1136]\n"
     ]
    }
   ],
   "source": [
    "# Count the number of True values and get their indices\n",
    "num_true = np.sum(rfe.support_)\n",
    "true_indices = np.where(rfe.support_)[0]\n",
    "\n",
    "# Print the results\n",
    "print(\"Number of True values:\", num_true)\n",
    "print(\"Indices of True values:\", true_indices)"
   ]
  },
  {
   "cell_type": "code",
   "execution_count": 4,
   "id": "ff351a23",
   "metadata": {},
   "outputs": [
    {
     "name": "stdout",
     "output_type": "stream",
     "text": [
      "Names of selected features:\n",
      "Index(['SpMax4_Bhm', 'MATS7v', 'maxssNH', 'MATS6s', 'ATSC2e', 'minsF',\n",
      "       'MDEN-22', 'VR1_Dt', 'ATSC5e', 'ATSC5m', 'AATSC6e', 'SsF',\n",
      "       'SpMax5_Bhm'],\n",
      "      dtype='object')\n"
     ]
    }
   ],
   "source": [
    "# Get the names of selected features\n",
    "selected_features = X.columns[true_indices]\n",
    "\n",
    "# Print the names of selected features\n",
    "print(\"Names of selected features:\")\n",
    "print(selected_features)\n",
    "\n",
    "#NCBI Selected 13\n",
    "#MDEC23\n",
    "#MATS2v\n",
    "#ATSC8s\n",
    "#VE3Dt\n",
    "#CrippenMR\n",
    "#SpMax7_Bhe \n",
    "#SpMin1_Bhs \n",
    "#C1SP2\n",
    "#GATS8e\n",
    "#GATS8s\n",
    "#SpMax5_Bhv\n",
    "#VE3_Dzi\n",
    "#VPC-4"
   ]
  },
  {
   "cell_type": "code",
   "execution_count": 16,
   "id": "77a79af5",
   "metadata": {},
   "outputs": [
    {
     "name": "stdout",
     "output_type": "stream",
     "text": [
      "Accuracy: 0.6857142857142857\n",
      "Precision: 0.5\n",
      "Recall: 0.18181818181818182\n",
      "F1 Score: 0.26666666666666666\n"
     ]
    },
    {
     "data": {
      "image/png": "[encoded data removed]",
      "text/plain": [
       "<Figure size 640x480 with 1 Axes>"
      ]
     },
     "metadata": {},
     "output_type": "display_data"
    }
   ],
   "source": [
    "# conduct gradient boosting using sklearn.ensemble import GradientBoostingClassifier for the selected features\n",
    "from sklearn.ensemble import GradientBoostingClassifier\n",
    "from sklearn.metrics import accuracy_score, precision_score, recall_score, f1_score\n",
    "\n",
    "# Load the dataset\n",
    "X = data[selected_features]\n",
    "y = data['Class']\n",
    "\n",
    "# Scale the features\n",
    "scaler = StandardScaler()\n",
    "X_scaled = scaler.fit_transform(X)\n",
    "\n",
    "X_train, X_test, y_train, y_test = train_test_split(X_scaled, y, test_size=0.2, random_state=42)\n",
    "\n",
    "# gradient boosting classifier\n",
    "gb_classifier = GradientBoostingClassifier(n_estimators=100, learning_rate=0.1, max_depth=3, random_state=42)\n",
    "gb_classifier.fit(X_train, y_train)\n",
    "\n",
    "# Make predictions\n",
    "y_pred = gb_classifier.predict(X_test)\n",
    "\n",
    "# Calculate the accuracy, precision, recall, and F1 score\n",
    "accuracy = accuracy_score(y_test, y_pred)\n",
    "precision = precision_score(y_test, y_pred)\n",
    "recall = recall_score(y_test, y_pred)\n",
    "f1 = f1_score(y_test, y_pred)\n",
    "\n",
    "# Print the results\n",
    "print(\"Accuracy:\", accuracy)\n",
    "print(\"Precision:\", precision)\n",
    "print(\"Recall:\", recall)\n",
    "print(\"F1 Score:\", f1)\n",
    "\n",
    "# Plot the feature importances\n",
    "feature_importances = gb_classifier.feature_importances_\n",
    "plt.bar(selected_features, feature_importances)\n",
    "plt.xticks(rotation=90)\n",
    "plt.ylabel(\"Feature Importance\")\n",
    "plt.title(\"Feature Importances\")\n",
    "plt.show()\n",
    "\n"
   ]
  },
  {
   "cell_type": "code",
   "execution_count": null,
   "id": "f003397f",
   "metadata": {},
   "outputs": [],
   "source": []
  }
 ],
 "metadata": {
  "kernelspec": {
   "display_name": "Python 3 (ipykernel)",
   "language": "python",
   "name": "python3"
  },
  "language_info": {
   "codemirror_mode": {
    "name": "ipython",
    "version": 3
   },
   "file_extension": ".py",
   "mimetype": "text/x-python",
   "name": "python",
   "nbconvert_exporter": "python",
   "pygments_lexer": "ipython3",
   "version": "3.11.5"
  }
 },
 "nbformat": 4,
 "nbformat_minor": 5
}
