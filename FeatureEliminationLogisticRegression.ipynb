{
 "cells": [
  {
   "cell_type": "code",
   "execution_count": 34,
   "id": "80ded82b",
   "metadata": {},
   "outputs": [
    {
     "name": "stdout",
     "output_type": "stream",
     "text": [
      "Index(['MATS3v', 'nHBint10', 'MATS3s', 'MATS3p', 'nHBDon_Lipinski',\n",
      "       'minHBint8', 'MATS3e', 'MATS3c', 'minHBint2', 'MATS3m',\n",
      "       ...\n",
      "       'WTPT-4', 'WTPT-5', 'ETA_EtaP_L', 'ETA_EtaP_F', 'ETA_EtaP_B', 'nT5Ring',\n",
      "       'SHdNH', 'ETA_dEpsilon_C', 'MDEO-22', 'Class'],\n",
      "      dtype='object', length=1204)\n",
      "Dimensions of toxicity data:\n",
      "Number of rows: 171\n",
      "Number of columns: 1204\n"
     ]
    }
   ],
   "source": [
    "import pandas as pd\n",
    "import numpy as np\n",
    "import matplotlib.pyplot as plt\n",
    "#Perform basic dimension check\n",
    "\n",
    "#Read in full toxicity dataset\n",
    "#data = pd.read_csv('toxicity_data_13.csv')\n",
    "data = pd.read_csv('toxicity_data.csv')\n",
    "print(data.columns)\n",
    "features = data.columns\n",
    "\n",
    "#Output dimensions of the data\n",
    "print(\"Dimensions of toxicity data:\")\n",
    "print(\"Number of rows:\", data.shape[0])\n",
    "print(\"Number of columns:\", data.shape[1])"
   ]
  },
  {
   "cell_type": "code",
   "execution_count": 47,
   "id": "03a4be5c",
   "metadata": {},
   "outputs": [],
   "source": [
    "def sigmoid(z):\n",
    "    return 1/(1+np.exp(-z))"
   ]
  },
  {
   "cell_type": "code",
   "execution_count": 37,
   "id": "148fdeb0",
   "metadata": {},
   "outputs": [
    {
     "name": "stdout",
     "output_type": "stream",
     "text": [
      "Sigmoid function test passed.\n"
     ]
    }
   ],
   "source": [
    "def test_sigmoid():\n",
    "    #Sample case\n",
    "    test_inputs = [0, 1, -1, 10, -10]\n",
    "    expected_outputs = [0.5, 0.73105858, 0.26894142, 0.9999546, 4.53978687e-05]\n",
    "    for input_val, expected_output in zip(test_inputs, expected_outputs):\n",
    "        output = sigmoid(input_val)\n",
    "        assert np.isclose(output, expected_output), f\"Test failed: Input {input_val}, Expected {expected_output}, Got {output}\"\n",
    "\n",
    "    print(\"Sigmoid function test passed.\")\n",
    "test_sigmoid()"
   ]
  },
  {
   "cell_type": "code",
   "execution_count": 51,
   "id": "dbfaf3ac",
   "metadata": {},
   "outputs": [],
   "source": [
    "def logistic_regression(X, y, learning_rate=0.001, n_iters=1000):\n",
    "    \"\"\"\n",
    "    Fit logistic regression model to the data.\n",
    "    \"\"\"\n",
    "    n_samples, n_features = X.shape\n",
    "\n",
    "    #Initialize parameters\n",
    "    weights = np.zeros(n_features)\n",
    "    bias = 0\n",
    "\n",
    "    #Gradient descent\n",
    "    for _ in range(n_iters):\n",
    "        # Linear combination of weights and features, plus bias\n",
    "        linear_model = np.dot(X, weights) + bias\n",
    "        # Apply sigmoid function\n",
    "        y_predicted = sigmoid(linear_model)\n",
    "\n",
    "        #Compute gradients\n",
    "        dw = (1 / n_samples) * np.dot(X.T, (y_predicted - y))\n",
    "        db = (1 / n_samples) * np.sum(y_predicted - y)        \n",
    "\n",
    "        # Update parameters\n",
    "        weights -= learning_rate * dw\n",
    "        bias -= learning_rate * db\n",
    "\n",
    "    return weights, bias\n",
    "\n",
    "def logistic_regression_predict(X, weights, bias):\n",
    "    \"\"\"\n",
    "    Predict using logistic regression model.\n",
    "    \"\"\"\n",
    "    linear_model = np.dot(X, weights) + bias\n",
    "    y_predicted = sigmoid(linear_model)\n",
    "    y_predicted_cls = [1 if i > 0.5 else 0 for i in y_predicted]\n",
    "    return np.array(y_predicted_cls)\n",
    "\n",
    "def select_best_feature(X, y, selected_features):\n",
    "    remaining_features = [i for i in range(X.shape[1]) if i not in selected_features]\n",
    "    best_score = -np.inf\n",
    "    best_feature = None\n",
    "\n",
    "    for feature in remaining_features:\n",
    "        X_temp = X[:, selected_features + [feature]]\n",
    "        weights, bias, _ = logistic_regression(X_temp, y)\n",
    "\n",
    "        linear_model = np.dot(X_temp, weights) + bias\n",
    "        y_predicted = sigmoid(linear_model)\n",
    "\n",
    "        score = compute_score(y, y_predicted)\n",
    "        if score > best_score:\n",
    "            best_score = score\n",
    "            best_feature = feature\n",
    "\n",
    "    return best_feature\n",
    "\n",
    "def compute_score(y_true, y_pred):\n",
    "    accuracy = np.sum(y_true == y_pred) / len(y_true)\n",
    "    return accuracy\n",
    "\n",
    "def standard_scaler(X):\n",
    "    # Calculate the mean of each feature\n",
    "    means = X.mean(axis=0)\n",
    "    \n",
    "    # Calculate the standard deviation of each feature\n",
    "    stds = X.std(axis=0)\n",
    "    \n",
    "    # Apply standard scaling to each feature\n",
    "    scaled_X = (X - means) / stds\n",
    "    \n",
    "    return scaled_X"
   ]
  },
  {
   "cell_type": "code",
   "execution_count": 49,
   "id": "fa4faede",
   "metadata": {},
   "outputs": [],
   "source": [
    "def test_compute_score():\n",
    "    #Test cases\n",
    "    y_true = np.array([0, 1, 0, 1, 1])\n",
    "    y_pred = np.array([0, 1, 0, 0, 1])\n",
    "    expected_output = 0.8\n",
    "\n",
    "    #Run\n",
    "    output = compute_score(y_true, y_pred)\n",
    "    assert np.isclose(output, expected_output), f\"Test failed: Expected {expected_output}, Got {output}\"\n",
    "\n",
    "    print(\"Compute score function test passed.\")\n",
    "#test_compute_score()"
   ]
  },
  {
   "cell_type": "code",
   "execution_count": 50,
   "id": "89005a7f",
   "metadata": {},
   "outputs": [
    {
     "name": "stdout",
     "output_type": "stream",
     "text": [
      "Input features for logistic regression (X):\n",
      "[[ 9.080e-02  0.000e+00  7.500e-03 ...  0.000e+00 -8.680e-02  0.000e+00]\n",
      " [ 2.130e-02  0.000e+00  1.144e-01 ...  0.000e+00 -8.100e-02  2.500e-01]\n",
      " [ 1.800e-03  0.000e+00 -1.560e-02 ...  0.000e+00 -1.004e-01  0.000e+00]\n",
      " ...\n",
      " [ 9.600e-03  2.000e+00 -1.846e-01 ...  0.000e+00 -9.270e-02  0.000e+00]\n",
      " [-7.360e-02  2.000e+00 -1.267e-01 ...  0.000e+00 -1.129e-01  0.000e+00]\n",
      " [-1.864e-01  0.000e+00 -2.000e-03 ...  0.000e+00 -1.915e-01  0.000e+00]]\n",
      "<class 'numpy.ndarray'>\n",
      "Target variable for logistic regression:\n",
      "0    NonToxic\n",
      "1    NonToxic\n",
      "2    NonToxic\n",
      "3    NonToxic\n",
      "4    NonToxic\n",
      "Name: Class, dtype: object\n",
      "Target variable for logistic regression:\n",
      "[0 0 0 0 0 0 0 0 0 0 0 0 0 0 0 0 0 0 0 0 0 0 0 0 0 0 0 0 0 0 0 0 0 0 0 0 0\n",
      " 0 0 0 0 0 0 0 0 0 0 0 0 0 0 0 0 0 0 0 0 0 0 0 0 0 0 0 0 0 0 0 0 0 0 0 0 0\n",
      " 0 0 0 0 0 0 0 0 0 0 0 1 1 1 1 1 1 1 1 1 1 1 1 1 1 1 1 1 1 1 1 1 1 1 1 1 1\n",
      " 1 1 1 1 1 1 1 1 1 1 1 1 1 1 1 1 1 1 1 1 1 1 1 1 1 1 1 1 0 0 0 0 0 0 0 0 0\n",
      " 0 0 0 0 0 0 0 0 0 0 0 0 0 0 0 0 0 0 0 0 0 1 1]\n",
      "<class 'numpy.ndarray'>\n"
     ]
    }
   ],
   "source": [
    "#Log normalize the numerical data\n",
    "#data = np.log1p(data)\n",
    "\n",
    "#Toxicity data has class variable (toxic vs nontoxic) as target variable\n",
    "X = data.drop('Class', axis=1) \n",
    "y = data['Class']\n",
    "\n",
    "\n",
    "#Print XPortion\n",
    "print(\"Input features for logistic regression (X):\")\n",
    "X = X.to_numpy()\n",
    "print(X)\n",
    "print(type(X))\n",
    "#Print YPortion\n",
    "print(\"Target variable for logistic regression:\")\n",
    "print(y.head())\n",
    "\n",
    "#Convert target variable numeric\n",
    "#0 FOR NONTOXIC\n",
    "#1 FOR TOXIC\n",
    "y_numeric = [0 if label == 'NonToxic' else 1 for label in y]\n",
    "#Convert to numpy array\n",
    "y_numeric = np.array(y_numeric)\n",
    "\n",
    "#Print YNumericPortion\n",
    "print(\"Target variable for logistic regression:\")\n",
    "print(y_numeric)\n",
    "print(type(y_numeric))"
   ]
  },
  {
   "cell_type": "code",
   "execution_count": 41,
   "id": "41faa847",
   "metadata": {},
   "outputs": [],
   "source": [
    "#Function for splitting data into training/testing sections\n",
    "def train_test_split(X, y, test_size=0.2, random_state=None):\n",
    "    \"\"\"Split the dataset into training and testing sets.\"\"\"\n",
    "    if random_state is not None:\n",
    "        np.random.seed(random_state)\n",
    "\n",
    "    #Shuffle indices\n",
    "    indices = np.arange(len(X))\n",
    "    np.random.shuffle(indices)\n",
    "\n",
    "    #Calculate the number of samples for the testing set\n",
    "    num_test_samples = int(len(X) * test_size)\n",
    "\n",
    "    #Split the shuffled indices into training and testing indices\n",
    "    test_indices = indices[:num_test_samples]\n",
    "    train_indices = indices[num_test_samples:]\n",
    "\n",
    "    #Split the dataset into training and testing sets\n",
    "    X_train, X_test = X[train_indices], X[test_indices]\n",
    "    y_train, y_test = y[train_indices], y[test_indices]\n",
    "\n",
    "    return X_train, X_test, y_train, y_test"
   ]
  },
  {
   "cell_type": "code",
   "execution_count": 52,
   "id": "81222538",
   "metadata": {},
   "outputs": [
    {
     "name": "stdout",
     "output_type": "stream",
     "text": [
      "Shape of X_train: (137, 1203)\n",
      "Shape of X_test: (34, 1203)\n",
      "Shape of y_train: (137,)\n",
      "Shape of y_test: (34,)\n"
     ]
    },
    {
     "name": "stderr",
     "output_type": "stream",
     "text": [
      "C:\\Users\\Brian\\AppData\\Local\\Temp\\ipykernel_34968\\1123484564.py:68: RuntimeWarning: invalid value encountered in divide\n",
      "  scaled_X = (X - means) / stds\n"
     ]
    }
   ],
   "source": [
    "#X_train, X_test, y_train, y_test = train_test_split(X.values, y.values, test_size=0.2, random_state=42)\n",
    "X_train, X_test, y_train, y_test = train_test_split(X, y_numeric, test_size=0.2, random_state=42)\n",
    "#Test train/test split\n",
    "print(\"Shape of X_train:\", X_train.shape)\n",
    "print(\"Shape of X_test:\", X_test.shape)\n",
    "print(\"Shape of y_train:\", y_train.shape)\n",
    "print(\"Shape of y_test:\", y_test.shape)\n",
    "\n",
    "#Normalize TEST using custom standard scaler function\n",
    "X_train = standard_scaler(X_train)\n",
    "X_test = standard_scaler(X_test)"
   ]
  },
  {
   "cell_type": "code",
   "execution_count": 53,
   "id": "5fd08a11",
   "metadata": {},
   "outputs": [
    {
     "name": "stdout",
     "output_type": "stream",
     "text": [
      "[[-0.02518237 -0.41299229 -1.04737752 ... -0.12160992 -1.1952994\n",
      "  -0.256843  ]\n",
      " [-0.55479985 -0.41299229  0.4012476  ... -0.12160992  1.44374106\n",
      "  -0.256843  ]\n",
      " [-1.17573068 -0.41299229 -0.70963177 ... -0.12160992 -0.42628504\n",
      "  -0.256843  ]\n",
      " ...\n",
      " [ 1.98869224 -0.41299229 -0.54796201 ... -0.12160992  0.40709616\n",
      "  -0.256843  ]\n",
      " [-0.69758073 -0.41299229 -0.37188603 ... -0.12160992 -0.06041037\n",
      "  -0.256843  ]\n",
      " [-0.83040016 -0.41299229 -0.52875372 ... -0.12160992  0.43419798\n",
      "  -0.256843  ]]\n",
      "[[ 0.02692026  1.56501609 -0.58104678 ...         nan  1.04211063\n",
      "  -0.31724765]\n",
      " [-0.17193716  3.61157559 -0.57226652 ...         nan  0.2646952\n",
      "  -0.31724765]\n",
      " [ 0.12771101 -0.48154341  0.52380292 ...         nan  0.44851757\n",
      "  -0.31724765]\n",
      " ...\n",
      " [-0.99596964 -0.48154341  0.09210668 ...         nan  1.30635529\n",
      "  -0.31724765]\n",
      " [-0.26319365 -0.48154341  1.83352541 ...         nan  0.14214695\n",
      "  -0.31724765]\n",
      " [-0.56965201 -0.48154341 -1.21761581 ...         nan  1.54379251\n",
      "  -0.31724765]]\n",
      "[1 1 0 0 0 1 1 1 1 0 0 0 0 0 0 0 0 0 1 0 1 0 0 1 0 0 1 0 0 0 0 0 0 0 1 0 0\n",
      " 1 0 1 1 0 0 1 0 0 0 0 0 1 0 0 0 0 1 1 1 0 0 0 1 0 0 0 0 1 1 1 0 1 0 1 1 0\n",
      " 0 1 0 0 0 0 0 0 0 0 0 0 0 1 1 1 0 0 0 1 0 0 0 0 1 0 0 0 1 0 0 0 0 1 0 0 0\n",
      " 0 1 0 0 0 1 0 0 0 0 0 1 0 1 1 1 1 0 1 1 0 0 1 0 1 1]\n",
      "[1 0 0 0 0 0 1 1 1 1 0 1 0 0 0 0 0 0 0 0 0 0 0 0 0 0 0 1 0 1 0 1 1 0]\n"
     ]
    }
   ],
   "source": [
    "#XTrain\n",
    "print(X_train)\n",
    "#XTest\n",
    "print(X_test)\n",
    "#YTrain\n",
    "print(y_train)\n",
    "#YTest\n",
    "print(y_test)"
   ]
  },
  {
   "cell_type": "code",
   "execution_count": 58,
   "id": "5d8d4862",
   "metadata": {
    "scrolled": false
   },
   "outputs": [
    {
     "name": "stdout",
     "output_type": "stream",
     "text": [
      "Accuracy: 70.59%\n",
      "Accuracy: 70.59%\n",
      "Accuracy: 70.59%\n",
      "Accuracy: 70.59%\n",
      "Accuracy: 70.59%\n",
      "Accuracy: 70.59%\n",
      "Accuracy: 70.59%\n",
      "Accuracy: 70.59%\n",
      "Accuracy: 70.59%\n",
      "Accuracy: 70.59%\n",
      "Accuracy: 70.59%\n",
      "Accuracy: 70.59%\n"
     ]
    },
    {
     "data": {
      "image/png": "[encoded data removed]",
      "text/plain": [
       "<Figure size 640x480 with 1 Axes>"
      ]
     },
     "metadata": {},
     "output_type": "display_data"
    }
   ],
   "source": [
    "#Switch hyperparameters up\n",
    "learning_rate = 0.001\n",
    "num_iterations_list = [1,2,3,4,5,6,7,8,9,10, 100, 1000]\n",
    "\n",
    "#Train the logistic regression model and evaluate accuracy for each number of iterations\n",
    "accuracy_scores = []\n",
    "for num_iterations in num_iterations_list:\n",
    "    #Training step\n",
    "    weights, bias = logistic_regression(X_train, y_train, learning_rate, num_iterations)\n",
    "    \n",
    "    #Make predictions on the test data\n",
    "    y_pred = logistic_regression_predict(X_test, weights, bias)\n",
    "    \n",
    "    #Calculate accuracy\n",
    "    acc = compute_score(y_test, y_pred)\n",
    "    print(\"Accuracy: {:.2f}%\".format(acc* 100))\n",
    "    accuracy_scores.append(acc)\n",
    "\n",
    "#Plot accuracy over iterations\n",
    "plt.plot(num_iterations_list, accuracy_scores, marker='o')\n",
    "plt.xlabel('Number of Iterations')\n",
    "plt.ylabel('Accuracy')\n",
    "plt.title('Accuracy of Logistic Regression Model')\n",
    "plt.grid(True)\n",
    "plt.show()"
   ]
  },
  {
   "cell_type": "code",
   "execution_count": 56,
   "id": "ab2c1390",
   "metadata": {},
   "outputs": [
    {
     "name": "stdout",
     "output_type": "stream",
     "text": [
      "[-0.0335177  -0.04601429 -0.01793141 ...  0.00832843  0.01031035\n",
      "  0.07375946]\n",
      "[  52  562 1042  911  271 1202  738  335 1044 1191  645 1192  495]\n",
      "WTPT-1\n",
      "0.08129705104723178\n",
      "JGI9\n",
      "0.038532591978256286\n",
      "JGI4\n",
      "0.04155088419564341\n",
      "khs.dssC\n",
      "0.05712714290261922\n",
      "GATS8s\n",
      "0.056129566436339255\n",
      "nAtomLAC\n",
      "0.06083295915101639\n",
      "BCUTw-1l\n",
      "0.05613706828774782\n",
      "JGI7\n",
      "0.07473258344844018\n",
      "minaasC\n",
      "0.07307616003001315\n",
      "EE_Dt\n",
      "0.08371932022201944\n",
      "minssCH2\n",
      "0.06320139932283148\n",
      "WTPT-2\n",
      "0.11529782650759661\n",
      "nG\n",
      "0.1201113491035559\n",
      "(1203,)\n"
     ]
    }
   ],
   "source": [
    "#Evaluate coefficients\n",
    "print(weights)\n",
    "print(np.argsort(weights)[-13:])\n",
    "\n",
    "#Features selected shared with Gradient Boosting\n",
    "#GATS8s\n",
    "#\n",
    "print(features[1191])\n",
    "print(weights[1191])\n",
    "print(features[742])\n",
    "print(weights[742])\n",
    "print(features[739])\n",
    "print(weights[739])\n",
    "print(features[643])\n",
    "print(weights[643])\n",
    "print(features[1080])\n",
    "print(weights[1080])\n",
    "print(features[839])\n",
    "print(weights[839])\n",
    "print(features[424])\n",
    "print(weights[424])\n",
    "print(features[738])\n",
    "print(weights[738])\n",
    "print(features[271])\n",
    "print(weights[271])\n",
    "print(features[645])\n",
    "print(weights[645])\n",
    "print(features[43])\n",
    "print(weights[43])\n",
    "print(features[1192])\n",
    "print(weights[1192])\n",
    "print(features[495])\n",
    "print(weights[495])\n",
    "\n",
    "#NCBI Selected 13\n",
    "#MDEC23\n",
    "#MATS2v\n",
    "#ATSC8s\n",
    "#VE3Dt\n",
    "#CrippenMR\n",
    "#SpMax7_Bhe\n",
    "#SpMin1_Bhs\n",
    "#C1SP2\n",
    "#GATS8e\n",
    "#GATS8s\n",
    "#SpMax5_Bhv\n",
    "#VE3_Dzi\n",
    "#VPC-4\n",
    "\n",
    "#Logistic regression found 1 \n",
    "#GATS8s\n",
    "\n",
    "print(weights.shape)"
   ]
  },
  {
   "cell_type": "code",
   "execution_count": 59,
   "id": "a00863ae",
   "metadata": {},
   "outputs": [],
   "source": [
    "def custom_rfe(X, y, learning_rate, num_iterations, n_features_to_select):\n",
    "    remaining_features = list(range(X.shape[1]))\n",
    "    selected_features = []\n",
    "    \n",
    "    while len(selected_features) < n_features_to_select:\n",
    "        scores = []\n",
    "        for feature in remaining_features:\n",
    "            features_subset = selected_features + [feature]\n",
    "            X_subset = X[:, features_subset]\n",
    "            \n",
    "            #Training\n",
    "            weights, bias = logistic_regression(X_subset, y, learning_rate, num_iterations)\n",
    "            \n",
    "            #Prediction\n",
    "            y_pred = logistic_regression_predict(X_subset, weights, bias)\n",
    "            \n",
    "            #Accuracy\n",
    "            acc = compute_score(y, y_pred)\n",
    "            scores.append((acc, feature))\n",
    "        \n",
    "        scores.sort(reverse=True)\n",
    "        best_acc, best_feature = scores.pop(0)\n",
    "        selected_features.append(best_feature)\n",
    "        remaining_features.remove(best_feature)\n",
    "        print(f'Selected Features: {selected_features}, Accuracy: {best_acc}')\n",
    "    \n",
    "    return selected_features\n"
   ]
  },
  {
   "cell_type": "code",
   "execution_count": 62,
   "id": "b6357b1b",
   "metadata": {},
   "outputs": [
    {
     "name": "stdout",
     "output_type": "stream",
     "text": [
      "Selected Features: [1184], Accuracy: 0.6861313868613139\n",
      "Selected Features: [1184, 334], Accuracy: 0.7226277372262774\n",
      "Selected Features: [1184, 334, 164], Accuracy: 0.7299270072992701\n",
      "Selected Features: [1184, 334, 164, 884], Accuracy: 0.7518248175182481\n",
      "Selected Features: [1184, 334, 164, 884, 1168], Accuracy: 0.7664233576642335\n",
      "Selected Features: [1184, 334, 164, 884, 1168, 657], Accuracy: 0.7883211678832117\n",
      "Selected Features: [1184, 334, 164, 884, 1168, 657, 1200], Accuracy: 0.7956204379562044\n",
      "Selected Features: [1184, 334, 164, 884, 1168, 657, 1200, 922], Accuracy: 0.8029197080291971\n",
      "Selected Features: [1184, 334, 164, 884, 1168, 657, 1200, 922, 80], Accuracy: 0.8102189781021898\n",
      "Selected Features: [1184, 334, 164, 884, 1168, 657, 1200, 922, 80, 1194], Accuracy: 0.8102189781021898\n",
      "Selected Features: [1184, 334, 164, 884, 1168, 657, 1200, 922, 80, 1194, 1192], Accuracy: 0.8102189781021898\n",
      "Selected Features: [1184, 334, 164, 884, 1168, 657, 1200, 922, 80, 1194, 1192, 1190], Accuracy: 0.8102189781021898\n",
      "Selected Features: [1184, 334, 164, 884, 1168, 657, 1200, 922, 80, 1194, 1192, 1190, 1185], Accuracy: 0.8102189781021898\n"
     ]
    }
   ],
   "source": [
    "selected_features = custom_rfe(X_train, y_train, 0.01, 1000, 13)"
   ]
  },
  {
   "cell_type": "code",
   "execution_count": 70,
   "id": "2d0011da",
   "metadata": {},
   "outputs": [
    {
     "name": "stdout",
     "output_type": "stream",
     "text": [
      "Names of selected features:\n",
      "Index(['AATSC1v', 'MATS7v', 'SpMax4_Bhe', 'khs.tsC', 'GATS5c', 'nHBint3',\n",
      "       'SHdNH', 'SHBint7', 'nFRing', 'WTPT-4', 'WTPT-2', 'ETA_Eta', 'AATSC1m'],\n",
      "      dtype='object')\n"
     ]
    }
   ],
   "source": [
    "X = data.drop(columns=['Class'])\n",
    "true_indices = np.array([1184, 334, 164, 884, 1168, 657, 1200, 922, 80, 1194, 1192, 1190, 1185])\n",
    "\n",
    "#Get the names of selected features\n",
    "selected_features = X.columns[true_indices]\n",
    "\n",
    "#Print the names of selected features\n",
    "print(\"Names of selected features:\")\n",
    "print(selected_features)\n",
    "\n",
    "#NCBI Selected 13\n",
    "#MDEC23\n",
    "#MATS2v\n",
    "#ATSC8s\n",
    "#VE3Dt\n",
    "#CrippenMR\n",
    "#SpMax7_Bhe\n",
    "#SpMin1_Bhs\n",
    "#C1SP2\n",
    "#GATS8e\n",
    "#GATS8s\n",
    "#SpMax5_Bhv\n",
    "#VE3_Dzi\n",
    "#VPC-4\n",
    "\n",
    "#Sklearn found:\n",
    "#Index(['SpMax4_Bhm', 'MATS7v', 'maxssNH', 'MATS6s', 'ATSC2e', 'minsF',\n",
    "#      'MDEN-22', 'VR1_Dt', 'ATSC5e', 'ATSC5m', 'AATSC6e', 'SsF',\n",
    "#      'SpMax5_Bhm'],"
   ]
  },
  {
   "cell_type": "code",
   "execution_count": 77,
   "id": "d22caa01",
   "metadata": {},
   "outputs": [
    {
     "name": "stdout",
     "output_type": "stream",
     "text": [
      "Shape of X_train: (137, 1203)\n",
      "Shape of X_test: (34, 1203)\n",
      "Shape of y_train: (137,)\n",
      "Shape of y_test: (34,)\n"
     ]
    },
    {
     "name": "stderr",
     "output_type": "stream",
     "text": [
      "C:\\Users\\Brian\\AppData\\Local\\Temp\\ipykernel_34968\\1123484564.py:68: RuntimeWarning: invalid value encountered in divide\n",
      "  scaled_X = (X - means) / stds\n"
     ]
    }
   ],
   "source": [
    "#Test different featuresets found by logreg and RTE\n",
    "\n",
    "data = pd.read_csv('toxicity_data.csv')\n",
    "#Extract the features and target variable\n",
    "features_set1 = ['AATSC1v', 'MATS7v', 'SpMax4_Bhe', 'khs.tsC', 'GATS5c', 'nHBint3', 'SHdNH', 'SHBint7', 'nFRing', 'WTPT-4', 'WTPT-2', 'ETA_Eta', 'AATSC1m']\n",
    "features_set2 = ['WTPT-1', 'JGI9', 'JGI4', 'khs.dssC', 'GATS8s', 'nAtomLAC', 'BCUTw-1l', 'JGI7', 'minaasC', 'EE_Dt', 'minssCH2', 'WTPT-2', 'nG']\n",
    "\n",
    "#Toxicity data has class variable (toxic vs nontoxic) as target variable\n",
    "X = data.drop('Class', axis=1) \n",
    "y = data['Class']\n",
    "X = X.to_numpy()\n",
    "\n",
    "#Convert target variable numeric\n",
    "#0 FOR NONTOXIC\n",
    "#1 FOR TOXIC\n",
    "y_numeric = [0 if label == 'NonToxic' else 1 for label in y]\n",
    "#Convert to numpy array\n",
    "y_numeric = np.array(y_numeric)\n",
    "\n",
    "X_train, X_test, y_train, y_test = train_test_split(X, y_numeric, test_size=0.2, random_state=42)\n",
    "#Test train/test split\n",
    "print(\"Shape of X_train:\", X_train.shape)\n",
    "print(\"Shape of X_test:\", X_test.shape)\n",
    "print(\"Shape of y_train:\", y_train.shape)\n",
    "print(\"Shape of y_test:\", y_test.shape)\n",
    "\n",
    "#Normalize TEST using custom standard scaler function\n",
    "X_train = standard_scaler(X_train)\n",
    "X_test = standard_scaler(X_test)"
   ]
  },
  {
   "cell_type": "code",
   "execution_count": 86,
   "id": "6c338587",
   "metadata": {},
   "outputs": [
    {
     "name": "stdout",
     "output_type": "stream",
     "text": [
      "Accuracy using features set 1: 0.7058823529411765\n",
      "Accuracy using features set 2: 0.6764705882352942\n"
     ]
    }
   ],
   "source": [
    "#Set hyperparameters for logistic regression\n",
    "learning_rate = 0.01\n",
    "num_iterations = 1000\n",
    "\n",
    "#Train two logistic regression models\n",
    "weights_set1, bias_set1 = logistic_regression(X_train[:, [list(data.columns).index(feature) for feature in features_set1]], y_train, learning_rate, num_iterations)\n",
    "weights_set2, bias_set2 = logistic_regression(X_train[:, [list(data.columns).index(feature) for feature in features_set2]], y_train, learning_rate, num_iterations)\n",
    "\n",
    "y_pred_set1 = logistic_regression_predict(X_test[:, [list(data.columns).index(feature) for feature in features_set1]], weights_set1, bias_set1)\n",
    "y_pred_set2 = logistic_regression_predict(X_test[:, [list(data.columns).index(feature) for feature in features_set2]], weights_set2, bias_set2)\n",
    "\n",
    "accuracy_set1 = compute_score(y_test, y_pred_set1)\n",
    "accuracy_set2 = compute_score(y_test, y_pred_set2)\n",
    "\n",
    "#Compare accuracy of different feature sets\n",
    "print(\"Accuracy using features set 1:\", accuracy_set1)\n",
    "print(\"Accuracy using features set 2:\", accuracy_set2)"
   ]
  },
  {
   "cell_type": "code",
   "execution_count": null,
   "id": "4bc89d0b",
   "metadata": {},
   "outputs": [],
   "source": []
  }
 ],
 "metadata": {
  "kernelspec": {
   "display_name": "Python 3 (ipykernel)",
   "language": "python",
   "name": "python3"
  },
  "language_info": {
   "codemirror_mode": {
    "name": "ipython",
    "version": 3
   },
   "file_extension": ".py",
   "mimetype": "text/x-python",
   "name": "python",
   "nbconvert_exporter": "python",
   "pygments_lexer": "ipython3",
   "version": "3.11.4"
  }
 },
 "nbformat": 4,
 "nbformat_minor": 5
}
