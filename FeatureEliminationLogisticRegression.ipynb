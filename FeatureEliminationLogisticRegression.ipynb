{
 "cells": [
  {
   "cell_type": "code",
   "execution_count": 21,
   "id": "80ded82b",
   "metadata": {},
   "outputs": [
    {
     "name": "stdout",
     "output_type": "stream",
     "text": [
      "Dimensions of toxicity data:\n",
      "Number of rows: 171\n",
      "Number of columns: 1204\n"
     ]
    }
   ],
   "source": [
    "import pandas as pd\n",
    "import numpy as np\n",
    "import matplotlib.pyplot as plt\n",
    "#Perform basic dimension check\n",
    "\n",
    "#Read in full toxicity dataset\n",
    "data = pd.read_csv('toxicity_data.csv')\n",
    "\n",
    "#Output dimensions of the data\n",
    "print(\"Dimensions of toxicity data:\")\n",
    "print(\"Number of rows:\", data.shape[0])\n",
    "print(\"Number of columns:\", data.shape[1])"
   ]
  },
  {
   "cell_type": "code",
   "execution_count": 22,
   "id": "03a4be5c",
   "metadata": {},
   "outputs": [],
   "source": [
    "def sigmoid(z):\n",
    "    return 1/(1+np.exp(-z))"
   ]
  },
  {
   "cell_type": "code",
   "execution_count": 23,
   "id": "148fdeb0",
   "metadata": {},
   "outputs": [
    {
     "name": "stdout",
     "output_type": "stream",
     "text": [
      "Sigmoid function test passed.\n"
     ]
    }
   ],
   "source": [
    "def test_sigmoid():\n",
    "    #Sample case\n",
    "    test_inputs = [0, 1, -1, 10, -10]\n",
    "    expected_outputs = [0.5, 0.73105858, 0.26894142, 0.9999546, 4.53978687e-05]\n",
    "    for input_val, expected_output in zip(test_inputs, expected_outputs):\n",
    "        output = sigmoid(input_val)\n",
    "        assert np.isclose(output, expected_output), f\"Test failed: Input {input_val}, Expected {expected_output}, Got {output}\"\n",
    "\n",
    "    print(\"Sigmoid function test passed.\")\n",
    "test_sigmoid()"
   ]
  },
  {
   "cell_type": "code",
   "execution_count": 24,
   "id": "dbfaf3ac",
   "metadata": {},
   "outputs": [],
   "source": [
    "def logistic_regression(X, y, learning_rate=0.001, n_iters=1000):\n",
    "    \"\"\"\n",
    "    Fit logistic regression model to the data.\n",
    "    \"\"\"\n",
    "    n_samples, n_features = X.shape\n",
    "\n",
    "    # Initialize parameters\n",
    "    weights = np.zeros(n_features)\n",
    "    bias = 0\n",
    "\n",
    "    # Gradient descent\n",
    "    for _ in range(n_iters):\n",
    "        # Linear combination of weights and features, plus bias\n",
    "        linear_model = np.dot(X, weights) + bias\n",
    "        # Apply sigmoid function\n",
    "        y_predicted = sigmoid(linear_model)\n",
    "\n",
    "        #Compute gradients\n",
    "        dw = (1 / n_samples) * np.dot(X.T, (y_predicted - y))\n",
    "        db = (1 / n_samples) * np.sum(y_predicted - y)        \n",
    "\n",
    "        # Update parameters\n",
    "        weights -= learning_rate * dw\n",
    "        bias -= learning_rate * db\n",
    "\n",
    "    return weights, bias\n",
    "\n",
    "def logistic_regression_predict(X, weights, bias):\n",
    "    \"\"\"\n",
    "    Predict using logistic regression model.\n",
    "    \"\"\"\n",
    "    linear_model = np.dot(X, weights) + bias\n",
    "    y_predicted = sigmoid(linear_model)\n",
    "    y_predicted_cls = [1 if i > 0.5 else 0 for i in y_predicted]\n",
    "    return np.array(y_predicted_cls)\n",
    "\n",
    "\"\"\"\n",
    "def sigmoid(x):\n",
    "    if -x > np.log(np.finfo(type(x)).max):\n",
    "        return 0.0\n",
    "    dist = np.exp(-value)\n",
    "    return 1 / (1 + dist)\n",
    "\"\"\"\n",
    "\n",
    "def select_best_feature(X, y, selected_features):\n",
    "    remaining_features = [i for i in range(X.shape[1]) if i not in selected_features]\n",
    "    best_score = -np.inf\n",
    "    best_feature = None\n",
    "\n",
    "    for feature in remaining_features:\n",
    "        X_temp = X[:, selected_features + [feature]]\n",
    "        weights, bias, _ = logistic_regression(X_temp, y)\n",
    "\n",
    "        linear_model = np.dot(X_temp, weights) + bias\n",
    "        y_predicted = sigmoid(linear_model)\n",
    "\n",
    "        score = compute_score(y, y_predicted)\n",
    "        if score > best_score:\n",
    "            best_score = score\n",
    "            best_feature = feature\n",
    "\n",
    "    return best_feature\n",
    "\n",
    "def compute_score(y_true, y_pred):\n",
    "    accuracy = np.sum(y_true == y_pred) / len(y_true)\n",
    "    return accuracy"
   ]
  },
  {
   "cell_type": "code",
   "execution_count": 25,
   "id": "fa4faede",
   "metadata": {},
   "outputs": [
    {
     "name": "stdout",
     "output_type": "stream",
     "text": [
      "Compute score function test passed.\n"
     ]
    }
   ],
   "source": [
    "def test_compute_score():\n",
    "    #Test cases\n",
    "    y_true = np.array([0, 1, 0, 1, 1])\n",
    "    y_pred = np.array([0, 1, 0, 0, 1])\n",
    "    expected_output = 0.8\n",
    "\n",
    "    #Run\n",
    "    output = compute_score(y_true, y_pred)\n",
    "    assert np.isclose(output, expected_output), f\"Test failed: Expected {expected_output}, Got {output}\"\n",
    "\n",
    "    print(\"Compute score function test passed.\")\n",
    "test_compute_score()"
   ]
  },
  {
   "cell_type": "code",
   "execution_count": 32,
   "id": "89005a7f",
   "metadata": {},
   "outputs": [
    {
     "name": "stdout",
     "output_type": "stream",
     "text": [
      "Input features for logistic regression (X):\n",
      "[[ 9.080e-02  0.000e+00  7.500e-03 ...  0.000e+00 -8.680e-02  0.000e+00]\n",
      " [ 2.130e-02  0.000e+00  1.144e-01 ...  0.000e+00 -8.100e-02  2.500e-01]\n",
      " [ 1.800e-03  0.000e+00 -1.560e-02 ...  0.000e+00 -1.004e-01  0.000e+00]\n",
      " ...\n",
      " [ 9.600e-03  2.000e+00 -1.846e-01 ...  0.000e+00 -9.270e-02  0.000e+00]\n",
      " [-7.360e-02  2.000e+00 -1.267e-01 ...  0.000e+00 -1.129e-01  0.000e+00]\n",
      " [-1.864e-01  0.000e+00 -2.000e-03 ...  0.000e+00 -1.915e-01  0.000e+00]]\n",
      "<class 'numpy.ndarray'>\n",
      "Target variable for logistic regression:\n",
      "0    NonToxic\n",
      "1    NonToxic\n",
      "2    NonToxic\n",
      "3    NonToxic\n",
      "4    NonToxic\n",
      "Name: Class, dtype: object\n",
      "Target variable for logistic regression:\n",
      "[0 0 0 0 0 0 0 0 0 0 0 0 0 0 0 0 0 0 0 0 0 0 0 0 0 0 0 0 0 0 0 0 0 0 0 0 0\n",
      " 0 0 0 0 0 0 0 0 0 0 0 0 0 0 0 0 0 0 0 0 0 0 0 0 0 0 0 0 0 0 0 0 0 0 0 0 0\n",
      " 0 0 0 0 0 0 0 0 0 0 0 1 1 1 1 1 1 1 1 1 1 1 1 1 1 1 1 1 1 1 1 1 1 1 1 1 1\n",
      " 1 1 1 1 1 1 1 1 1 1 1 1 1 1 1 1 1 1 1 1 1 1 1 1 1 1 1 1 0 0 0 0 0 0 0 0 0\n",
      " 0 0 0 0 0 0 0 0 0 0 0 0 0 0 0 0 0 0 0 0 0 1 1]\n",
      "<class 'numpy.ndarray'>\n"
     ]
    }
   ],
   "source": [
    "#Log normalize the numerical data\n",
    "#data = np.log1p(data)\n",
    "\n",
    "#Toxicity data has class variable (toxic vs nontoxic) as target variable\n",
    "X = data.drop('Class', axis=1) \n",
    "y = data['Class']\n",
    "\n",
    "\n",
    "#Print XPortion\n",
    "print(\"Input features for logistic regression (X):\")\n",
    "X = X.to_numpy()\n",
    "print(X)\n",
    "print(type(X))\n",
    "#Print YPortion\n",
    "print(\"Target variable for logistic regression:\")\n",
    "print(y.head())\n",
    "\n",
    "#Convert target variable numeric\n",
    "#0 FOR NONTOXIC\n",
    "#1 FOR TOXIC\n",
    "y_numeric = [0 if label == 'NonToxic' else 1 for label in y]\n",
    "#Convert to numpy array\n",
    "y_numeric = np.array(y_numeric)\n",
    "\n",
    "#Print YNumericPortion\n",
    "print(\"Target variable for logistic regression:\")\n",
    "print(y_numeric)\n",
    "print(type(y_numeric))"
   ]
  },
  {
   "cell_type": "code",
   "execution_count": 27,
   "id": "41faa847",
   "metadata": {},
   "outputs": [],
   "source": [
    "#Function for splitting data into training/testing sections\n",
    "def train_test_split(X, y, test_size=0.2, random_state=None):\n",
    "    \"\"\"Split the dataset into training and testing sets.\"\"\"\n",
    "    if random_state is not None:\n",
    "        np.random.seed(random_state)\n",
    "\n",
    "    #Shuffle indices\n",
    "    indices = np.arange(len(X))\n",
    "    np.random.shuffle(indices)\n",
    "\n",
    "    #Calculate the number of samples for the testing set\n",
    "    num_test_samples = int(len(X) * test_size)\n",
    "\n",
    "    #Split the shuffled indices into training and testing indices\n",
    "    test_indices = indices[:num_test_samples]\n",
    "    train_indices = indices[num_test_samples:]\n",
    "\n",
    "    #Split the dataset into training and testing sets\n",
    "    X_train, X_test = X[train_indices], X[test_indices]\n",
    "    y_train, y_test = y[train_indices], y[test_indices]\n",
    "\n",
    "    return X_train, X_test, y_train, y_test"
   ]
  },
  {
   "cell_type": "code",
   "execution_count": 34,
   "id": "81222538",
   "metadata": {},
   "outputs": [
    {
     "name": "stdout",
     "output_type": "stream",
     "text": [
      "Shape of X_train: (137, 1203)\n",
      "Shape of X_test: (34, 1203)\n",
      "Shape of y_train: (137,)\n",
      "Shape of y_test: (34,)\n"
     ]
    }
   ],
   "source": [
    "#X_train, X_test, y_train, y_test = train_test_split(X.values, y.values, test_size=0.2, random_state=42)\n",
    "X_train, X_test, y_train, y_test = train_test_split(X, y_numeric, test_size=0.2, random_state=42)\n",
    "#Test train/test split\n",
    "print(\"Shape of X_train:\", X_train.shape)\n",
    "print(\"Shape of X_test:\", X_test.shape)\n",
    "print(\"Shape of y_train:\", y_train.shape)\n",
    "print(\"Shape of y_test:\", y_test.shape)\n",
    "\n",
    "#Normalize TEST using standard scaler\n",
    "sc = StandardScaler()\n",
    "X_train = sc.fit_transform(X_train)\n",
    "X_test = sc.transform(X_test)"
   ]
  },
  {
   "cell_type": "code",
   "execution_count": 35,
   "id": "5fd08a11",
   "metadata": {},
   "outputs": [
    {
     "name": "stdout",
     "output_type": "stream",
     "text": [
      "[[-0.02518237 -0.41299229 -1.04737752 ... -0.12160992 -1.1952994\n",
      "  -0.256843  ]\n",
      " [-0.55479985 -0.41299229  0.4012476  ... -0.12160992  1.44374106\n",
      "  -0.256843  ]\n",
      " [-1.17573068 -0.41299229 -0.70963177 ... -0.12160992 -0.42628504\n",
      "  -0.256843  ]\n",
      " ...\n",
      " [ 1.98869224 -0.41299229 -0.54796201 ... -0.12160992  0.40709616\n",
      "  -0.256843  ]\n",
      " [-0.69758073 -0.41299229 -0.37188603 ... -0.12160992 -0.06041037\n",
      "  -0.256843  ]\n",
      " [-0.83040016 -0.41299229 -0.52875372 ... -0.12160992  0.43419798\n",
      "  -0.256843  ]]\n",
      "[[-0.22275127  0.81700649 -0.52555234 ... -0.12160992  1.28451782\n",
      "  -0.256843  ]\n",
      " [-0.46514673  2.04700526 -0.51594819 ... -0.12160992  0.59680895\n",
      "  -0.256843  ]\n",
      " [-0.0998933  -0.41299229  0.68296917 ... -0.12160992  0.75941992\n",
      "  -0.256843  ]\n",
      " ...\n",
      " [-1.46959367 -0.41299229  0.2107654  ... -0.12160992  1.51827109\n",
      "  -0.256843  ]\n",
      " [-0.576383   -0.41299229  2.11558738 ... -0.12160992  0.48840164\n",
      "  -0.256843  ]\n",
      " [-0.94993765 -0.41299229 -1.22185281 ... -0.12160992  1.72831025\n",
      "  -0.256843  ]]\n",
      "[1 1 0 0 0 1 1 1 1 0 0 0 0 0 0 0 0 0 1 0 1 0 0 1 0 0 1 0 0 0 0 0 0 0 1 0 0\n",
      " 1 0 1 1 0 0 1 0 0 0 0 0 1 0 0 0 0 1 1 1 0 0 0 1 0 0 0 0 1 1 1 0 1 0 1 1 0\n",
      " 0 1 0 0 0 0 0 0 0 0 0 0 0 1 1 1 0 0 0 1 0 0 0 0 1 0 0 0 1 0 0 0 0 1 0 0 0\n",
      " 0 1 0 0 0 1 0 0 0 0 0 1 0 1 1 1 1 0 1 1 0 0 1 0 1 1]\n",
      "[1 0 0 0 0 0 1 1 1 1 0 1 0 0 0 0 0 0 0 0 0 0 0 0 0 0 0 1 0 1 0 1 1 0]\n"
     ]
    }
   ],
   "source": [
    "#XTrain\n",
    "print(X_train)\n",
    "#XTest\n",
    "print(X_test)\n",
    "#YTrain\n",
    "print(y_train)\n",
    "#YTest\n",
    "print(y_test)"
   ]
  },
  {
   "cell_type": "code",
   "execution_count": 45,
   "id": "5d8d4862",
   "metadata": {
    "scrolled": false
   },
   "outputs": [
    {
     "data": {
      "image/png": "[encoded data removed]",
      "text/plain": [
       "<Figure size 640x480 with 1 Axes>"
      ]
     },
     "metadata": {},
     "output_type": "display_data"
    }
   ],
   "source": [
    "#Switch hyperparameters up\n",
    "learning_rate = 0.001\n",
    "num_iterations_list = [1000, 5000, 10000, 15000, 20000, 25000, 30000, 35000]\n",
    "\n",
    "#Train the logistic regression model and evaluate accuracy for each number of iterations\n",
    "accuracy_scores = []\n",
    "for num_iterations in num_iterations_list:\n",
    "    #Training step\n",
    "    weights, bias = logistic_regression(X_train, y_train, learning_rate, num_iterations)\n",
    "    \n",
    "    #Make predictions on the test data\n",
    "    y_pred = logistic_regression_predict(X_test, weights, bias)\n",
    "    \n",
    "    #Calculate accuracy\n",
    "    acc = compute_score(y_test, y_pred)\n",
    "    accuracy_scores.append(acc)\n",
    "\n",
    "#Plot accuracy over iterations\n",
    "plt.plot(num_iterations_list, accuracy_scores, marker='o')\n",
    "plt.xlabel('Number of Iterations')\n",
    "plt.ylabel('Accuracy')\n",
    "plt.title('Accuracy of Logistic Regression Model')\n",
    "plt.grid(True)\n",
    "plt.show()"
   ]
  },
  {
   "cell_type": "code",
   "execution_count": 58,
   "id": "a00863ae",
   "metadata": {},
   "outputs": [
    {
     "name": "stdout",
     "output_type": "stream",
     "text": [
      "[1 0 1 0 0 0 0 0 1 0 0 1 0 1 0 1 1 0 1 0 0 0 1 0 0 0 0 0 0 0 1 1 1 0 1 0 0\n",
      " 0 0 0 1 1 0]\n"
     ]
    },
    {
     "data": {
      "text/plain": [
       "array([0, 0, 0, 0, 0, 0, 1, 0, 0, 0, 0, 0, 0, 0, 0, 0, 0, 0, 0, 0, 0, 1,\n",
       "       0, 0, 0, 0, 0, 0, 0, 0, 0, 0, 1, 1, 0, 1, 0, 1, 1, 1, 1, 1, 0])"
      ]
     },
     "execution_count": 58,
     "metadata": {},
     "output_type": "execute_result"
    }
   ],
   "source": [
    "#Test with sklearn\n",
    "from sklearn.linear_model import LogisticRegression \n",
    "from sklearn.metrics import accuracy_score\n",
    "from sklearn.model_selection import cross_val_score\n",
    "from sklearn.model_selection import train_test_split\n",
    "from sklearn.preprocessing import StandardScaler\n",
    "\n",
    "#Read in full toxicity dataset\n",
    "data = pd.read_csv('toxicity_data.csv')\n",
    "sc = StandardScaler()\n",
    "X = data.drop('Class', axis=1) \n",
    "X = sc.fit_transform(X)\n",
    "y = data['Class']\n",
    "\n",
    "#Binarize\n",
    "y = [0 if label == 'NonToxic' else 1 for label in y]\n",
    "#Convert to numpy array\n",
    "y = np.array(y)\n",
    "\n",
    "#Split into test and training\n",
    "X_train, X_test, y_train, y_test = train_test_split(X, y, test_size = 0.25, random_state = 16)\n",
    "#Normalize TEST using standard scaler\n",
    "sc = StandardScaler()\n",
    "X_train = sc.fit_transform(X_train)\n",
    "X_test = sc.transform(X_test)\n",
    "\n",
    "logreg = LogisticRegression(random_state=16, max_iter=200000)\n",
    "\n",
    "logreg.fit(X_train, y_train)\n",
    "y_pred = logreg.predict(X_test)\n",
    "threshold = 0.5\n",
    "logreg.predict(X_test)\n",
    "\n",
    "print(y_test)\n",
    "(logreg.predict_proba(X_test)[:,1]>threshold).astype(int)"
   ]
  },
  {
   "cell_type": "code",
   "execution_count": 72,
   "id": "b6357b1b",
   "metadata": {},
   "outputs": [
    {
     "name": "stderr",
     "output_type": "stream",
     "text": [
      "C:\\Users\\Brian\\anaconda3\\Lib\\site-packages\\sklearn\\linear_model\\_logistic.py:460: ConvergenceWarning: lbfgs failed to converge (status=1):\n",
      "STOP: TOTAL NO. of ITERATIONS REACHED LIMIT.\n",
      "\n",
      "Increase the number of iterations (max_iter) or scale the data as shown in:\n",
      "    https://scikit-learn.org/stable/modules/preprocessing.html\n",
      "Please also refer to the documentation for alternative solver options:\n",
      "    https://scikit-learn.org/stable/modules/linear_model.html#logistic-regression\n",
      "  n_iter_i = _check_optimize_result(\n",
      "C:\\Users\\Brian\\anaconda3\\Lib\\site-packages\\sklearn\\linear_model\\_logistic.py:460: ConvergenceWarning: lbfgs failed to converge (status=1):\n",
      "STOP: TOTAL NO. of ITERATIONS REACHED LIMIT.\n",
      "\n",
      "Increase the number of iterations (max_iter) or scale the data as shown in:\n",
      "    https://scikit-learn.org/stable/modules/preprocessing.html\n",
      "Please also refer to the documentation for alternative solver options:\n",
      "    https://scikit-learn.org/stable/modules/linear_model.html#logistic-regression\n",
      "  n_iter_i = _check_optimize_result(\n",
      "C:\\Users\\Brian\\anaconda3\\Lib\\site-packages\\sklearn\\linear_model\\_logistic.py:460: ConvergenceWarning: lbfgs failed to converge (status=1):\n",
      "STOP: TOTAL NO. of ITERATIONS REACHED LIMIT.\n",
      "\n",
      "Increase the number of iterations (max_iter) or scale the data as shown in:\n",
      "    https://scikit-learn.org/stable/modules/preprocessing.html\n",
      "Please also refer to the documentation for alternative solver options:\n",
      "    https://scikit-learn.org/stable/modules/linear_model.html#logistic-regression\n",
      "  n_iter_i = _check_optimize_result(\n",
      "C:\\Users\\Brian\\anaconda3\\Lib\\site-packages\\sklearn\\linear_model\\_logistic.py:460: ConvergenceWarning: lbfgs failed to converge (status=1):\n",
      "STOP: TOTAL NO. of ITERATIONS REACHED LIMIT.\n",
      "\n",
      "Increase the number of iterations (max_iter) or scale the data as shown in:\n",
      "    https://scikit-learn.org/stable/modules/preprocessing.html\n",
      "Please also refer to the documentation for alternative solver options:\n",
      "    https://scikit-learn.org/stable/modules/linear_model.html#logistic-regression\n",
      "  n_iter_i = _check_optimize_result(\n",
      "C:\\Users\\Brian\\anaconda3\\Lib\\site-packages\\sklearn\\linear_model\\_logistic.py:460: ConvergenceWarning: lbfgs failed to converge (status=1):\n",
      "STOP: TOTAL NO. of ITERATIONS REACHED LIMIT.\n",
      "\n",
      "Increase the number of iterations (max_iter) or scale the data as shown in:\n",
      "    https://scikit-learn.org/stable/modules/preprocessing.html\n",
      "Please also refer to the documentation for alternative solver options:\n",
      "    https://scikit-learn.org/stable/modules/linear_model.html#logistic-regression\n",
      "  n_iter_i = _check_optimize_result(\n",
      "C:\\Users\\Brian\\anaconda3\\Lib\\site-packages\\sklearn\\linear_model\\_logistic.py:460: ConvergenceWarning: lbfgs failed to converge (status=1):\n",
      "STOP: TOTAL NO. of ITERATIONS REACHED LIMIT.\n",
      "\n",
      "Increase the number of iterations (max_iter) or scale the data as shown in:\n",
      "    https://scikit-learn.org/stable/modules/preprocessing.html\n",
      "Please also refer to the documentation for alternative solver options:\n",
      "    https://scikit-learn.org/stable/modules/linear_model.html#logistic-regression\n",
      "  n_iter_i = _check_optimize_result(\n"
     ]
    },
    {
     "name": "stdout",
     "output_type": "stream",
     "text": [
      "Accuracy: 44.19%\n",
      "Accuracy: 48.84%\n",
      "Accuracy: 55.81%\n",
      "Accuracy: 55.81%\n",
      "Accuracy: 55.81%\n",
      "Accuracy: 55.81%\n",
      "Accuracy: 55.81%\n",
      "Accuracy: 55.81%\n"
     ]
    },
    {
     "data": {
      "image/png": "[encoded data removed]",
      "text/plain": [
       "<Figure size 640x480 with 1 Axes>"
      ]
     },
     "metadata": {},
     "output_type": "display_data"
    }
   ],
   "source": [
    "# Initialize lists to store accuracy and regularization parameter values\n",
    "accuracies = []\n",
    "iter_counts = [10, 20, 30, 40, 50, 100, 150, 200]\n",
    "\n",
    "# Train the model with different values of regularization parameter\n",
    "for it in iter_counts:\n",
    "    # Initialize logistic regression model with specific regularization parameter\n",
    "    logreg = LogisticRegression(random_state=7, max_iter=it)\n",
    "    logreg.fit(X_train, y_train)\n",
    "    y_pred = logreg.predict(X_test)\n",
    "    \n",
    "    # Calculate accuracy and append to list\n",
    "    accuracy = accuracy_score(y_test, y_pred)\n",
    "    print(\"Accuracy: {:.2f}%\".format(accuracy * 100))\n",
    "    accuracies.append(accuracy)\n",
    "    \n",
    "    # Append regularization parameter value to list\n",
    "    #regularization_values.append(C_value)\n",
    "\n",
    "#Plot accuracy vs. regularization parameter values\n",
    "plt.plot(iter_counts, accuracies, marker='o')\n",
    "plt.title('Accuracy vs. Iterations')\n",
    "plt.xlabel('Iterations')\n",
    "plt.ylabel('Accuracy')\n",
    "plt.grid(True)\n",
    "plt.show()"
   ]
  },
  {
   "cell_type": "code",
   "execution_count": null,
   "id": "2d0011da",
   "metadata": {},
   "outputs": [],
   "source": []
  },
  {
   "cell_type": "code",
   "execution_count": null,
   "id": "d22caa01",
   "metadata": {},
   "outputs": [],
   "source": []
  }
 ],
 "metadata": {
  "kernelspec": {
   "display_name": "Python 3 (ipykernel)",
   "language": "python",
   "name": "python3"
  },
  "language_info": {
   "codemirror_mode": {
    "name": "ipython",
    "version": 3
   },
   "file_extension": ".py",
   "mimetype": "text/x-python",
   "name": "python",
   "nbconvert_exporter": "python",
   "pygments_lexer": "ipython3",
   "version": "3.11.4"
  }
 },
 "nbformat": 4,
 "nbformat_minor": 5
}
